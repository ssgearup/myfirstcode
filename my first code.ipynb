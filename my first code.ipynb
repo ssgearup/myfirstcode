{
 "cells": [
  {
   "cell_type": "code",
   "execution_count": 39,
   "metadata": {},
   "outputs": [
    {
     "name": "stdout",
     "output_type": "stream",
     "text": [
      "1\n",
      "2\n",
      "fuzz\n",
      "4\n",
      "buzz\n",
      "fuzz\n",
      "7\n",
      "8\n",
      "fuzz\n",
      "buzz\n",
      "11\n",
      "fuzz\n",
      "13\n",
      "14\n",
      "fizzbuzz\n",
      "16\n",
      "17\n",
      "fuzz\n",
      "19\n",
      "buzz\n",
      "fuzz\n",
      "22\n",
      "23\n",
      "fuzz\n",
      "buzz\n",
      "26\n",
      "fuzz\n",
      "28\n",
      "29\n",
      "fizzbuzz\n",
      "31\n",
      "32\n",
      "fuzz\n",
      "34\n",
      "buzz\n",
      "fuzz\n",
      "37\n",
      "38\n",
      "fuzz\n",
      "buzz\n",
      "41\n",
      "fuzz\n",
      "43\n",
      "44\n",
      "fizzbuzz\n",
      "46\n",
      "47\n",
      "fuzz\n",
      "49\n",
      "buzz\n"
     ]
    }
   ],
   "source": [
    "\n",
    "for i in range(1,51):\n",
    "    if i%3==0 and i%5==0:\n",
    "                 print('fizzbuzz')\n",
    "                 i+=1\n",
    "        \n",
    "    else:\n",
    "        if i%5==0:\n",
    "            print('buzz')\n",
    "        else:\n",
    "            if i%3==0:\n",
    "                print('fuzz')\n",
    "            \n",
    "            else:\n",
    "                print(i)\n"
   ]
  }
 ],
 "metadata": {
  "kernelspec": {
   "display_name": "Python 3",
   "language": "python",
   "name": "python3"
  },
  "language_info": {
   "codemirror_mode": {
    "name": "ipython",
    "version": 3
   },
   "file_extension": ".py",
   "mimetype": "text/x-python",
   "name": "python",
   "nbconvert_exporter": "python",
   "pygments_lexer": "ipython3",
   "version": "3.8.3"
  }
 },
 "nbformat": 4,
 "nbformat_minor": 4
}
